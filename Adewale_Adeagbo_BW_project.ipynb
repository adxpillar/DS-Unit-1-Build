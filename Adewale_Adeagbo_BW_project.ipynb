{
  "nbformat": 4,
  "nbformat_minor": 0,
  "metadata": {
    "colab": {
      "name": "Adewale Adeagbo - BW project",
      "provenance": [],
      "collapsed_sections": [],
      "authorship_tag": "ABX9TyNPGnO9frHYxYjFcIEZaAPp",
      "include_colab_link": true
    },
    "kernelspec": {
      "name": "python3",
      "display_name": "Python 3"
    }
  },
  "cells": [
    {
      "cell_type": "markdown",
      "metadata": {
        "id": "view-in-github",
        "colab_type": "text"
      },
      "source": [
        "<a href=\"https://colab.research.google.com/github/adxpillar/DS-Unit-1-Build/blob/master/Adewale_Adeagbo_BW_project.ipynb\" target=\"_parent\"><img src=\"https://colab.research.google.com/assets/colab-badge.svg\" alt=\"Open In Colab\"/></a>"
      ]
    },
    {
      "cell_type": "code",
      "metadata": {
        "id": "n-ociRB5Y4Nr",
        "colab_type": "code",
        "colab": {}
      },
      "source": [
        "import pandas as pd\n",
        "import numpy as np\n",
        "import matplotlib.pyplot as plt\n",
        "import seaborn as sns"
      ],
      "execution_count": 0,
      "outputs": []
    },
    {
      "cell_type": "code",
      "metadata": {
        "id": "XMG0y-OiZw5r",
        "colab_type": "code",
        "colab": {}
      },
      "source": [
        "df = pd.read_csv('/content/abnb19.csv')"
      ],
      "execution_count": 0,
      "outputs": []
    },
    {
      "cell_type": "code",
      "metadata": {
        "id": "KDOSDLXlcsFp",
        "colab_type": "code",
        "colab": {}
      },
      "source": [
        "# check head and tail\n",
        "df.head()\n",
        "df.tail()"
      ],
      "execution_count": 0,
      "outputs": []
    },
    {
      "cell_type": "code",
      "metadata": {
        "id": "VkvvD3tNeYuM",
        "colab_type": "code",
        "outputId": "3d1d4727-64f0-415d-a1c4-10457c9f4b07",
        "colab": {
          "base_uri": "https://localhost:8080/",
          "height": 34
        }
      },
      "source": [
        "df.shape"
      ],
      "execution_count": 0,
      "outputs": [
        {
          "output_type": "execute_result",
          "data": {
            "text/plain": [
              "(48895, 16)"
            ]
          },
          "metadata": {
            "tags": []
          },
          "execution_count": 7
        }
      ]
    },
    {
      "cell_type": "code",
      "metadata": {
        "id": "-2rWMySNVzqk",
        "colab_type": "code",
        "colab": {}
      },
      "source": [
        "df.describe()"
      ],
      "execution_count": 0,
      "outputs": []
    },
    {
      "cell_type": "code",
      "metadata": {
        "id": "iCDn7wRJV26B",
        "colab_type": "code",
        "colab": {}
      },
      "source": [
        "df.describe(exclude='number')"
      ],
      "execution_count": 0,
      "outputs": []
    },
    {
      "cell_type": "code",
      "metadata": {
        "id": "2_tQF7tDdeaF",
        "colab_type": "code",
        "colab": {}
      },
      "source": [
        "# drop values that are not relevant to this analysis\n",
        "df.drop(['id','name','host_name','host_id'],axis=1,inplace=True)"
      ],
      "execution_count": 0,
      "outputs": []
    },
    {
      "cell_type": "code",
      "metadata": {
        "id": "6QkjP6ZveY8W",
        "colab_type": "code",
        "colab": {}
      },
      "source": [
        "df.drop('neighbourhood',axis=1,inplace=True)"
      ],
      "execution_count": 0,
      "outputs": []
    },
    {
      "cell_type": "code",
      "metadata": {
        "id": "xTsJYBG-etG9",
        "colab_type": "code",
        "colab": {}
      },
      "source": [
        "# Change name of neighbourhood group to Borough \n",
        "df['Borough'] = df['neighbourhood_group']"
      ],
      "execution_count": 0,
      "outputs": []
    },
    {
      "cell_type": "code",
      "metadata": {
        "id": "cn1NkOXZeuiW",
        "colab_type": "code",
        "colab": {}
      },
      "source": [
        "# drop redundant column \n",
        "df.drop('neighbourhood_group',axis=1,inplace=True)"
      ],
      "execution_count": 0,
      "outputs": []
    },
    {
      "cell_type": "code",
      "metadata": {
        "id": "RpbgAyHbfMpA",
        "colab_type": "code",
        "colab": {}
      },
      "source": [
        "# drop some more \n",
        "df.drop('last_review',axis=1,inplace=True)"
      ],
      "execution_count": 0,
      "outputs": []
    },
    {
      "cell_type": "code",
      "metadata": {
        "id": "R_Sf_m0-fIoo",
        "colab_type": "code",
        "colab": {}
      },
      "source": [
        "#find missing values \n",
        "df.isnull().sum()"
      ],
      "execution_count": 0,
      "outputs": []
    },
    {
      "cell_type": "code",
      "metadata": {
        "id": "fnHV47YYn82_",
        "colab_type": "code",
        "colab": {}
      },
      "source": [
        "# drop reviews per month because it contains a lot of missing values \n",
        "df.drop('reviews_per_month',axis=1,inplace=True)"
      ],
      "execution_count": 0,
      "outputs": []
    },
    {
      "cell_type": "code",
      "metadata": {
        "id": "OwOFAGvBuNqH",
        "colab_type": "code",
        "colab": {}
      },
      "source": [
        "#Average price in each borough by property type \n",
        "borough_price = df.pivot_table(index='room_type',columns='Borough',values='price',aggfunc='mean')"
      ],
      "execution_count": 0,
      "outputs": []
    },
    {
      "cell_type": "code",
      "metadata": {
        "id": "i7k2WG5ZzLEp",
        "colab_type": "code",
        "outputId": "af05a2a5-7404-4b00-f8d1-6e885cbeb473",
        "colab": {
          "base_uri": "https://localhost:8080/",
          "height": 296
        }
      },
      "source": [
        "sns.set(font_scale=0.9)\n",
        "sns.heatmap(data=borough_price,cmap='rainbow',cbar_kws={'label': 'Price'},robust=True,linewidths=2)\n",
        "plt.title(\"Cost of a typical NYC Airbnb in 2019\")\n",
        "plt.show()"
      ],
      "execution_count": 0,
      "outputs": [
        {
          "output_type": "display_data",
          "data": {
            "image/png": "[encoded data removed]",
            "text/plain": [
              "<Figure size 432x288 with 2 Axes>"
            ]
          },
          "metadata": {
            "tags": []
          }
        }
      ]
    },
    {
      "cell_type": "code",
      "metadata": {
        "id": "V0f14zN7_Gh-",
        "colab_type": "code",
        "outputId": "64a5c79b-4889-4024-bb25-a569314ea6c4",
        "colab": {
          "base_uri": "https://localhost:8080/",
          "height": 296
        }
      },
      "source": [
        "# Minimum nights on listed Airbnb by room type \n",
        "sns.barplot(x='Borough',y='minimum_nights',hue='room_type',data=df,palette='Accent',saturation=3)\n",
        "plt.title(\"Minimum nights by apartment type\")\n",
        "plt.legend(bbox_to_anchor=(1.05, 1), loc=2, borderaxespad=0.)\n",
        "plt.show()"
      ],
      "execution_count": 0,
      "outputs": [
        {
          "output_type": "display_data",
          "data": {
            "image/png": "[encoded data removed]",
            "text/plain": [
              "<Figure size 432x288 with 1 Axes>"
            ]
          },
          "metadata": {
            "tags": []
          }
        }
      ]
    },
    {
      "cell_type": "code",
      "metadata": {
        "id": "xiMsdvSGOJ56",
        "colab_type": "code",
        "outputId": "b3c78565-011e-450e-96c1-a5622942cfae",
        "colab": {
          "base_uri": "https://localhost:8080/",
          "height": 296
        }
      },
      "source": [
        "# Count of total Airbnb in each borough \n",
        "sns.countplot(x='Borough',data=df, palette='pastel', saturation=2)\n",
        "plt.title(\"Number of Airbnb listed in each borough\")\n",
        "plt.show()"
      ],
      "execution_count": 0,
      "outputs": [
        {
          "output_type": "display_data",
          "data": {
            "image/png": "[encoded data removed]",
            "text/plain": [
              "<Figure size 432x288 with 1 Axes>"
            ]
          },
          "metadata": {
            "tags": []
          }
        }
      ]
    },
    {
      "cell_type": "code",
      "metadata": {
        "id": "5Nfr1E8DWYqy",
        "colab_type": "code",
        "outputId": "2010ce4b-1786-4119-a8b1-4f3dbf8fa242",
        "colab": {
          "base_uri": "https://localhost:8080/",
          "height": 296
        }
      },
      "source": [
        "# count of Airbnb room type in each borough  \n",
        "sns.countplot(x='room_type',hue='Borough',data=df,palette='bright')\n",
        "plt.legend(bbox_to_anchor=(1.05, 1), loc=2, borderaxespad=0.)\n",
        "plt.title(\"Room type of listed Airbnb in each borough\")\n",
        "plt.show()"
      ],
      "execution_count": 0,
      "outputs": [
        {
          "output_type": "display_data",
          "data": {
            "image/png": "[encoded data removed]",
            "text/plain": [
              "<Figure size 432x288 with 1 Axes>"
            ]
          },
          "metadata": {
            "tags": []
          }
        }
      ]
    },
    {
      "cell_type": "code",
      "metadata": {
        "id": "YrBG2HVSTH7L",
        "colab_type": "code",
        "outputId": "f820e202-2662-447c-a528-85b4f6dbdf7b",
        "colab": {
          "base_uri": "https://localhost:8080/",
          "height": 204
        }
      },
      "source": [
        "# Number of days Airbnbs are available for booking in each Borough \n",
        "# cutpoints based on number of days each duration \n",
        "cut_points =  [2, 7, 14, 30, 90, 183, 274, 366]\n",
        "label_names = ['Two days','One Week','Two Weeks','One Month', 'One Quarter','Half Year','One Year']\n",
        "df['availability_categories'] = pd.cut(df['availability_365'],cut_points,labels=label_names,include_lowest=True)\n",
        "df.head()"
      ],
      "execution_count": 0,
      "outputs": [
        {
          "output_type": "execute_result",
          "data": {
            "text/html": [
              "<div>\n",
              "<style scoped>\n",
              "    .dataframe tbody tr th:only-of-type {\n",
              "        vertical-align: middle;\n",
              "    }\n",
              "\n",
              "    .dataframe tbody tr th {\n",
              "        vertical-align: top;\n",
              "    }\n",
              "\n",
              "    .dataframe thead th {\n",
              "        text-align: right;\n",
              "    }\n",
              "</style>\n",
              "<table border=\"1\" class=\"dataframe\">\n",
              "  <thead>\n",
              "    <tr style=\"text-align: right;\">\n",
              "      <th></th>\n",
              "      <th>latitude</th>\n",
              "      <th>longitude</th>\n",
              "      <th>room_type</th>\n",
              "      <th>price</th>\n",
              "      <th>minimum_nights</th>\n",
              "      <th>number_of_reviews</th>\n",
              "      <th>calculated_host_listings_count</th>\n",
              "      <th>availability_365</th>\n",
              "      <th>availability_categories</th>\n",
              "      <th>Borough</th>\n",
              "    </tr>\n",
              "  </thead>\n",
              "  <tbody>\n",
              "    <tr>\n",
              "      <th>0</th>\n",
              "      <td>40.64749</td>\n",
              "      <td>-73.97237</td>\n",
              "      <td>Private room</td>\n",
              "      <td>149</td>\n",
              "      <td>1</td>\n",
              "      <td>9</td>\n",
              "      <td>6</td>\n",
              "      <td>365</td>\n",
              "      <td>One Year</td>\n",
              "      <td>Brooklyn</td>\n",
              "    </tr>\n",
              "    <tr>\n",
              "      <th>1</th>\n",
              "      <td>40.75362</td>\n",
              "      <td>-73.98377</td>\n",
              "      <td>Entire home/apt</td>\n",
              "      <td>225</td>\n",
              "      <td>1</td>\n",
              "      <td>45</td>\n",
              "      <td>2</td>\n",
              "      <td>355</td>\n",
              "      <td>One Year</td>\n",
              "      <td>Manhattan</td>\n",
              "    </tr>\n",
              "    <tr>\n",
              "      <th>2</th>\n",
              "      <td>40.80902</td>\n",
              "      <td>-73.94190</td>\n",
              "      <td>Private room</td>\n",
              "      <td>150</td>\n",
              "      <td>3</td>\n",
              "      <td>0</td>\n",
              "      <td>1</td>\n",
              "      <td>365</td>\n",
              "      <td>One Year</td>\n",
              "      <td>Manhattan</td>\n",
              "    </tr>\n",
              "    <tr>\n",
              "      <th>3</th>\n",
              "      <td>40.68514</td>\n",
              "      <td>-73.95976</td>\n",
              "      <td>Entire home/apt</td>\n",
              "      <td>89</td>\n",
              "      <td>1</td>\n",
              "      <td>270</td>\n",
              "      <td>1</td>\n",
              "      <td>194</td>\n",
              "      <td>Half Year</td>\n",
              "      <td>Brooklyn</td>\n",
              "    </tr>\n",
              "    <tr>\n",
              "      <th>4</th>\n",
              "      <td>40.79851</td>\n",
              "      <td>-73.94399</td>\n",
              "      <td>Entire home/apt</td>\n",
              "      <td>80</td>\n",
              "      <td>10</td>\n",
              "      <td>9</td>\n",
              "      <td>1</td>\n",
              "      <td>0</td>\n",
              "      <td>NaN</td>\n",
              "      <td>Manhattan</td>\n",
              "    </tr>\n",
              "  </tbody>\n",
              "</table>\n",
              "</div>"
            ],
            "text/plain": [
              "   latitude  longitude  ... availability_categories    Borough\n",
              "0  40.64749  -73.97237  ...                One Year   Brooklyn\n",
              "1  40.75362  -73.98377  ...                One Year  Manhattan\n",
              "2  40.80902  -73.94190  ...                One Year  Manhattan\n",
              "3  40.68514  -73.95976  ...               Half Year   Brooklyn\n",
              "4  40.79851  -73.94399  ...                     NaN  Manhattan\n",
              "\n",
              "[5 rows x 10 columns]"
            ]
          },
          "metadata": {
            "tags": []
          },
          "execution_count": 16
        }
      ]
    },
    {
      "cell_type": "code",
      "metadata": {
        "id": "2Csjt9gaTEay",
        "colab_type": "code",
        "outputId": "c6e6bdf9-b5a6-41d0-e357-a609f532b0da",
        "colab": {
          "base_uri": "https://localhost:8080/",
          "height": 235
        }
      },
      "source": [
        "# create crosstab \n",
        "tab = pd.crosstab(df['Borough'],df['availability_categories'],aggfunc=None)\n",
        "tab"
      ],
      "execution_count": 0,
      "outputs": [
        {
          "output_type": "execute_result",
          "data": {
            "text/html": [
              "<div>\n",
              "<style scoped>\n",
              "    .dataframe tbody tr th:only-of-type {\n",
              "        vertical-align: middle;\n",
              "    }\n",
              "\n",
              "    .dataframe tbody tr th {\n",
              "        vertical-align: top;\n",
              "    }\n",
              "\n",
              "    .dataframe thead th {\n",
              "        text-align: right;\n",
              "    }\n",
              "</style>\n",
              "<table border=\"1\" class=\"dataframe\">\n",
              "  <thead>\n",
              "    <tr style=\"text-align: right;\">\n",
              "      <th>availability_categories</th>\n",
              "      <th>Two days</th>\n",
              "      <th>One Week</th>\n",
              "      <th>Two Weeks</th>\n",
              "      <th>One Month</th>\n",
              "      <th>One Quarter</th>\n",
              "      <th>Half Year</th>\n",
              "      <th>One Year</th>\n",
              "    </tr>\n",
              "    <tr>\n",
              "      <th>Borough</th>\n",
              "      <th></th>\n",
              "      <th></th>\n",
              "      <th></th>\n",
              "      <th></th>\n",
              "      <th></th>\n",
              "      <th></th>\n",
              "      <th></th>\n",
              "    </tr>\n",
              "  </thead>\n",
              "  <tbody>\n",
              "    <tr>\n",
              "      <th>Bronx</th>\n",
              "      <td>20</td>\n",
              "      <td>15</td>\n",
              "      <td>31</td>\n",
              "      <td>222</td>\n",
              "      <td>180</td>\n",
              "      <td>93</td>\n",
              "      <td>345</td>\n",
              "    </tr>\n",
              "    <tr>\n",
              "      <th>Brooklyn</th>\n",
              "      <td>679</td>\n",
              "      <td>571</td>\n",
              "      <td>917</td>\n",
              "      <td>2717</td>\n",
              "      <td>2085</td>\n",
              "      <td>1768</td>\n",
              "      <td>3359</td>\n",
              "    </tr>\n",
              "    <tr>\n",
              "      <th>Manhattan</th>\n",
              "      <td>764</td>\n",
              "      <td>593</td>\n",
              "      <td>848</td>\n",
              "      <td>2476</td>\n",
              "      <td>2176</td>\n",
              "      <td>2249</td>\n",
              "      <td>4263</td>\n",
              "    </tr>\n",
              "    <tr>\n",
              "      <th>Queens</th>\n",
              "      <td>147</td>\n",
              "      <td>89</td>\n",
              "      <td>177</td>\n",
              "      <td>956</td>\n",
              "      <td>875</td>\n",
              "      <td>493</td>\n",
              "      <td>1515</td>\n",
              "    </tr>\n",
              "    <tr>\n",
              "      <th>Staten Island</th>\n",
              "      <td>3</td>\n",
              "      <td>3</td>\n",
              "      <td>9</td>\n",
              "      <td>68</td>\n",
              "      <td>47</td>\n",
              "      <td>45</td>\n",
              "      <td>156</td>\n",
              "    </tr>\n",
              "  </tbody>\n",
              "</table>\n",
              "</div>"
            ],
            "text/plain": [
              "availability_categories  Two days  One Week  ...  Half Year  One Year\n",
              "Borough                                      ...                     \n",
              "Bronx                          20        15  ...         93       345\n",
              "Brooklyn                      679       571  ...       1768      3359\n",
              "Manhattan                     764       593  ...       2249      4263\n",
              "Queens                        147        89  ...        493      1515\n",
              "Staten Island                   3         3  ...         45       156\n",
              "\n",
              "[5 rows x 7 columns]"
            ]
          },
          "metadata": {
            "tags": []
          },
          "execution_count": 17
        }
      ]
    },
    {
      "cell_type": "code",
      "metadata": {
        "id": "I-3VvTSQmLQi",
        "colab_type": "code",
        "outputId": "25a7b06b-ef54-44cc-f617-e61c4250110f",
        "colab": {
          "base_uri": "https://localhost:8080/",
          "height": 348
        }
      },
      "source": [
        "sns.heatmap(data=tab,cmap='Accent',cbar_kws={'label': 'Number of Airbnbs'})\n",
        "plt.title(\"Number of days available for booking\")\n",
        "plt.show()"
      ],
      "execution_count": 0,
      "outputs": [
        {
          "output_type": "display_data",
          "data": {
            "image/png": "[encoded data removed]",
            "text/plain": [
              "<Figure size 432x288 with 2 Axes>"
            ]
          },
          "metadata": {
            "tags": []
          }
        }
      ]
    },
    {
      "cell_type": "code",
      "metadata": {
        "id": "f23Z72Z4Q9zr",
        "colab_type": "code",
        "colab": {}
      },
      "source": [
        ""
      ],
      "execution_count": 0,
      "outputs": []
    }
  ]
}